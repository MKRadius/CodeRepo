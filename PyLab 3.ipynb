{
 "cells": [
  {
   "cell_type": "code",
   "execution_count": 1,
   "id": "dba52849-0240-433f-84e4-c00673f06a1c",
   "metadata": {},
   "outputs": [],
   "source": [
    "name = \"Khai Cao\"\n",
    "date_returned = \"9.10.2022\""
   ]
  },
  {
   "cell_type": "markdown",
   "id": "b79993e2-f922-416c-9141-71db833e624f",
   "metadata": {},
   "source": [
    "# Lab 3 (ver 2)\n",
    "**Graphical representation of functions**<br>\n",
    "Software 1<br>\n",
    "Information and Communication Technology<br>\n",
    "Metropolia University of Applied Sciences\n",
    "\n",
    "## Introduction\n",
    "\n",
    "In this third laboratory exercise we study how to write\n",
    "- unit step function (=piecewice continuous function)\n",
    "- rectangular pulse function by combining two unit step functions, and\n",
    "- arbitrary shaped pulse functions, like polynomial and triangular pulses\n",
    "\n",
    "The most important new skill to learn is how to use [boolean array indexing](https://numpy.org/doc/stable/user/basics.indexing.html#boolean-array-indexing). Here some links to the topic:\n",
    "- [numpy boolean indexing at python-course.eu](https://python-course.eu/numerical-programming/numpy-boolean-indexing.php)\n",
    "- [boolean numpy arrays at math.buffalo.edu](http://www.math.buffalo.edu/~badzioch/MTH337/PT/PT-boolean_numpy_arrays/PT-boolean_numpy_arrays.html) \n",
    "\n",
    "You can use [Moodle Quiz Lab 3](https://moodle.metropolia.fi/mod/quiz/view.php?id=48282) to automatically check and verify your answers.\n"
   ]
  },
  {
   "cell_type": "markdown",
   "id": "8a268836-7345-461c-ae00-4d3fd729cf03",
   "metadata": {},
   "source": [
    "## Setup\n",
    "\n",
    "Read necessary libraries. Notice that you need to import these libraries only once in the Notebook environment."
   ]
  },
  {
   "cell_type": "code",
   "execution_count": 2,
   "id": "f2435e24-747f-4666-8f00-801693f051c1",
   "metadata": {},
   "outputs": [],
   "source": [
    "import numpy as np\n",
    "import matplotlib.pyplot as plt"
   ]
  },
  {
   "cell_type": "markdown",
   "id": "8e18c52b-59df-44a0-86f0-63cdfeb6c9f4",
   "metadata": {},
   "source": [
    "## Problem 1\n",
    "\n",
    "The unit step function\n",
    "\n",
    "$ u(t) = \\begin{cases}\n",
    "1 & t \\geq 0 \\\\\n",
    "0 & t < 0 \n",
    "\\end{cases}$\n",
    "\n",
    "can be coded using numerical Python as given below.\n",
    "\n",
    "Sketch a graph of the unit step function $f = u(t)$ and annotate the graph.\n",
    "- Title: \"Unit step function\"\n",
    "- x-label: \"Time (s)\"\n",
    "- y-label: \"Amplitude\"\n",
    "- Add grid-lines\n",
    "\n",
    "Notice that the step-function and the values for *t* are already given and you can use them to calculate the values of *f(t)*."
   ]
  },
  {
   "cell_type": "code",
   "execution_count": 3,
   "id": "ba484030-1fa0-4896-b1b8-2f90925b19dc",
   "metadata": {},
   "outputs": [
    {
     "data": {
      "image/png": "[encoded data removed]",
      "text/plain": [
       "<Figure size 432x288 with 1 Axes>"
      ]
     },
     "metadata": {
      "needs_background": "light"
     },
     "output_type": "display_data"
    }
   ],
   "source": [
    "def step(t):\n",
    "    u = 1.0*(t>=0)\n",
    "    return u\n",
    "\n",
    "t = np.arange(-1, 5, 0.01)\n",
    "f = step(t)\n",
    "\n",
    "plt.plot(t, f)\n",
    "plt.title(\"Unit step function\")\n",
    "plt.xlabel(\"Time (s)\")\n",
    "plt.ylabel(\"Amplitude\")\n",
    "plt.grid()\n",
    "plt.show()"
   ]
  },
  {
   "cell_type": "markdown",
   "id": "26042254-1c34-40c4-900f-4686d99c8e91",
   "metadata": {
    "tags": []
   },
   "source": [
    "## Problem 2\n",
    "\n",
    "A delayed unit step function could be defined as\n",
    "\n",
    "$ u(t-t_0) = \\begin{cases}\n",
    "1 & t \\geq t_0 \\\\\n",
    "0 & t < t_0\n",
    "\\end{cases}$\n",
    "\n",
    "We need not to define a new function, but we can just call the unit step function with argument $u(t-t_o)$. \n",
    "\n",
    "Sketch a graph of delayed unit step function $f = u(t-3)$. Annotate the graph.\n",
    "- Title: \"Delayed unit step function\"\n",
    "- x-label: \"Time (s)\"\n",
    "- y-label: \"Amplitude\"\n",
    "- Add grid-lines\n",
    "\n",
    "Notice that the step-function and the values for *t* are already given and you can use them to calculate the values of *f(t)*."
   ]
  },
  {
   "cell_type": "code",
   "execution_count": 4,
   "id": "3205cf13-b1b9-4a1e-9adf-02640c4b9d78",
   "metadata": {},
   "outputs": [
    {
     "data": {
      "image/png": "[encoded data removed]",
      "text/plain": [
       "<Figure size 432x288 with 1 Axes>"
      ]
     },
     "metadata": {
      "needs_background": "light"
     },
     "output_type": "display_data"
    }
   ],
   "source": [
    "t = np.arange(-1, 5, 0.01)\n",
    "f = 1.0 * (t >= 3)\n",
    "\n",
    "plt.plot(t, f)\n",
    "plt.title(\"Delayed unit step function\")\n",
    "plt.xlabel(\"Time (s)\")\n",
    "plt.ylabel(\"Amplitude\")\n",
    "plt.grid()\n",
    "plt.show()"
   ]
  },
  {
   "cell_type": "markdown",
   "id": "0733c936-2b20-4ff1-9147-075d2452ab58",
   "metadata": {},
   "source": [
    "## Problem 3\n",
    "\n",
    "[Rectangular pulse](https://en.wikipedia.org/wiki/Rectangular_function) can be defined as\n",
    "\n",
    "$ p(t, t_0, t_1) = \\begin{cases}\n",
    "1 & t_0 \\leq t < t_1 \\\\\n",
    "0 & \\text{otherwise}\n",
    "\\end{cases}$\n",
    "\n",
    "We can implement it using two delayed step functions and subtrackting them, like $p(t, t_0, t_1) = u(t-t_0) - u(t-t_1)$. \n",
    "\n",
    "Sketch a graph of a rectangular pulse function $p = u(t-1) - u(t-3)$. Annotate the graph.\n",
    "- Title: \"Rectangular pulse function\"\n",
    "- x-label: \"Time (s)\"\n",
    "- y-label: \"Amplitude\"\n",
    "- Add grid-lines\n"
   ]
  },
  {
   "cell_type": "code",
   "execution_count": 5,
   "id": "35d82704-9fb5-4595-b122-c5a49807be63",
   "metadata": {},
   "outputs": [
    {
     "data": {
      "image/png": "[encoded data removed]",
      "text/plain": [
       "<Figure size 432x288 with 1 Axes>"
      ]
     },
     "metadata": {
      "needs_background": "light"
     },
     "output_type": "display_data"
    }
   ],
   "source": [
    "t = np.arange(-1, 5, 0.01)\n",
    "p = 1.0 * ((1 <= t) & (t <= 3))\n",
    "\n",
    "plt.plot(t, p)\n",
    "plt.title(\"Rectangular pulse function\")\n",
    "plt.xlabel(\"Time (s)\")\n",
    "plt.ylabel(\"Amplitude\")\n",
    "plt.grid()\n",
    "plt.show()"
   ]
  },
  {
   "cell_type": "markdown",
   "id": "ecaa50d8-be5c-42bd-8e7b-8da40992d773",
   "metadata": {},
   "source": [
    "## Problem 4\n",
    "\n",
    "By multiplying the rectangular pulse with another function, we can create pulse functions with arbitrary shape.\n",
    "\n",
    "Sketch a graph of a polynomial shaped pulse function $f = (-t^2 + 4t - 3) \\cdot \\left( u(t-1) - u(t-3) \\right)$. \n",
    "\n",
    "Annotate the graph.\n",
    "- Title: \"Polynomial pulse function\"\n",
    "- x-label: \"Time (s)\"\n",
    "- y-label: \"Amplitude\"\n",
    "- Add grid-lines\n"
   ]
  },
  {
   "cell_type": "code",
   "execution_count": 6,
   "id": "5ea091df-b606-4f1d-b97c-422049859817",
   "metadata": {},
   "outputs": [
    {
     "data": {
      "image/png": "[encoded data removed]",
      "text/plain": [
       "<Figure size 432x288 with 1 Axes>"
      ]
     },
     "metadata": {
      "needs_background": "light"
     },
     "output_type": "display_data"
    }
   ],
   "source": [
    "t = np.arange(-1, 5, 0.01)\n",
    "f = (-t**2 +4*t -3) * ((1 <= t) & (t <= 3))\n",
    "\n",
    "plt.plot(t, f)\n",
    "plt.title(\"Polynomial pulse function\")\n",
    "plt.xlabel(\"Time (s)\")\n",
    "plt.ylabel(\"Amplitude\")\n",
    "plt.grid()\n",
    "plt.show()"
   ]
  },
  {
   "cell_type": "markdown",
   "id": "34e6bc84-f22e-4018-b5ca-608ea252977f",
   "metadata": {},
   "source": [
    "## Problem 5\n",
    "\n",
    "By using the rectangular pulse functions and multiplication (see previous problem) calculate the values for a piecewise continuous [triangular function](https://en.wikipedia.org/wiki/Triangular_function)\n",
    "\n",
    "$$f = \\begin{cases}\n",
    "t/2 & 0 \\leq t < 2 \\\\\n",
    "-t/2 + 2 & 2 \\leq t < 4 \\\\\n",
    "0 & \\text{otherwise}\n",
    "\\end{cases}$$\n",
    "\n",
    "Sketch a graph of the function and annotate the graph.\n",
    "- Title: \"Triangular pulse function\"\n",
    "- x-label: \"Time (s)\"\n",
    "- y-label: \"Amplitude\"\n",
    "- Add grid-lines\n",
    "\n",
    "Tip: Create first two pulse functions \n",
    "- $f_1 = t/2$, when $0 \\leq t < 2$ \n",
    "- $f_2 = -t/2 + 2$, when $ 2 \\leq t < 4$\n",
    "\n",
    "Lastly, sum them together."
   ]
  },
  {
   "cell_type": "code",
   "execution_count": 7,
   "id": "1d4a261e-5235-433d-91ad-ad2c4815d9ee",
   "metadata": {},
   "outputs": [
    {
     "data": {
      "image/png": "[encoded data removed]",
      "text/plain": [
       "<Figure size 432x288 with 1 Axes>"
      ]
     },
     "metadata": {
      "needs_background": "light"
     },
     "output_type": "display_data"
    }
   ],
   "source": [
    "t = np.arange(-1, 5, 0.01)\n",
    "f1 = (t/2) * ((0 <= t) & (t < 2))\n",
    "f2 = (-t/2 + 2) * ((2 <= t) & (t < 4))\n",
    "f = f1 + f2\n",
    "\n",
    "plt.plot(t, f)\n",
    "plt.title(\"Triangular pulse function\")\n",
    "plt.xlabel(\"Time (s)\")\n",
    "plt.ylabel(\"Amplitude\")\n",
    "plt.grid()\n",
    "plt.show()"
   ]
  },
  {
   "cell_type": "code",
   "execution_count": null,
   "id": "719bf286-7f1a-49d8-a621-53dc27573060",
   "metadata": {},
   "outputs": [],
   "source": []
  }
 ],
 "metadata": {
  "kernelspec": {
   "display_name": "Python 3 (ipykernel)",
   "language": "python",
   "name": "python3"
  },
  "language_info": {
   "codemirror_mode": {
    "name": "ipython",
    "version": 3
   },
   "file_extension": ".py",
   "mimetype": "text/x-python",
   "name": "python",
   "nbconvert_exporter": "python",
   "pygments_lexer": "ipython3",
   "version": "3.9.12"
  }
 },
 "nbformat": 4,
 "nbformat_minor": 5
}
